{
  "nbformat": 4,
  "nbformat_minor": 0,
  "metadata": {
    "colab": {
      "provenance": []
    },
    "kernelspec": {
      "name": "python3",
      "display_name": "Python 3"
    },
    "language_info": {
      "name": "python"
    }
  },
  "cells": [
    {
      "cell_type": "markdown",
      "source": [
        "# Image Blending Methods in Python\n",
        "\n",
        "1. Multiply Blend\n",
        "2. Screen Blend\n",
        "3. Overlay Blend"
      ],
      "metadata": {
        "id": "1mV849zchHpN"
      }
    },
    {
      "cell_type": "code",
      "execution_count": null,
      "metadata": {
        "id": "MZ8Rzi8VZM_8"
      },
      "outputs": [],
      "source": [
        "import numpy as np\n",
        "from PIL import Image\n",
        "import matplotlib.pyplot as plt"
      ]
    },
    {
      "cell_type": "code",
      "source": [
        "img = Image.open(\"input_image.jpg\")\n",
        "img2 = img.copy()"
      ],
      "metadata": {
        "id": "nEgfr66PZSKp"
      },
      "execution_count": null,
      "outputs": []
    },
    {
      "cell_type": "code",
      "source": [
        "plt.imshow(img2)\n",
        "plt.show()"
      ],
      "metadata": {
        "id": "fE3n-qdGif2l"
      },
      "execution_count": null,
      "outputs": []
    },
    {
      "cell_type": "code",
      "source": [
        "img_array = np.array(img, dtype=float) / 255\n",
        "img2_array = np.array(img2, dtype=float) / 255"
      ],
      "metadata": {
        "id": "_5T-8p8_rVxL"
      },
      "execution_count": null,
      "outputs": []
    },
    {
      "cell_type": "code",
      "source": [
        "np.max(img2_array), np.min(img2_array)"
      ],
      "metadata": {
        "id": "-Arsp0IdrcYd"
      },
      "execution_count": null,
      "outputs": []
    },
    {
      "cell_type": "markdown",
      "source": [
        "## Method 1: Multiply Blend"
      ],
      "metadata": {
        "id": "00rL-A0axiyV"
      }
    },
    {
      "cell_type": "code",
      "source": [
        "# Perform the multiply blend\n",
        "multiply_blend_array = img_array * img2_array\n",
        "\n",
        "# Convert back to 8-bit values\n",
        "multiply_blend_array = (multiply_blend_array * 255).astype(np.uint8)\n",
        "\n",
        "# Create an image object from array\n",
        "multiply_blend_img = Image.fromarray(multiply_blend_array)"
      ],
      "metadata": {
        "id": "xmeLg-TkwxsK"
      },
      "execution_count": null,
      "outputs": []
    },
    {
      "cell_type": "code",
      "source": [
        "# Display images side by side (in one row and two columns)\n",
        "fig, axes = plt.subplots(1, 2, figsize=(12, 8))\n",
        "\n",
        "axes[0].imshow(img)\n",
        "axes[0].axis('off')\n",
        "axes[0].set_title('Input image')\n",
        "\n",
        "axes[1].imshow(multiply_blend_img)\n",
        "axes[1].axis('off')\n",
        "axes[1].set_title('Multiply blend mode')\n",
        "\n",
        "plt.show()"
      ],
      "metadata": {
        "id": "c6sPA23-a39B"
      },
      "execution_count": null,
      "outputs": []
    },
    {
      "cell_type": "markdown",
      "source": [
        "## Method 2: Screen Blend"
      ],
      "metadata": {
        "id": "ueXNPL6V0gd0"
      }
    },
    {
      "cell_type": "code",
      "source": [
        "# Perform the screen blend\n",
        "screen_blend_array = 1 - (1 - img_array) * (1 - img2_array)\n",
        "\n",
        "# Convert back to 8-bit values\n",
        "screen_blend_array = (screen_blend_array * 255).astype(np.uint8)\n",
        "\n",
        "# Create a new image from the blended array\n",
        "screen_blend_img = Image.fromarray(screen_blend_array)"
      ],
      "metadata": {
        "id": "jVVKbY_oa9uf"
      },
      "execution_count": null,
      "outputs": []
    },
    {
      "cell_type": "code",
      "source": [
        "# Display images side by side (in one row and two columns)\n",
        "fig, axes = plt.subplots(1, 2, figsize=(12, 8))\n",
        "\n",
        "axes[0].imshow(img)\n",
        "axes[0].axis('off')\n",
        "axes[0].set_title('Input image')\n",
        "\n",
        "axes[1].imshow(screen_blend_img)\n",
        "axes[1].axis('off')\n",
        "axes[1].set_title('Screen blend mode')\n",
        "\n",
        "plt.show()"
      ],
      "metadata": {
        "id": "UKgt2vkc7ur3"
      },
      "execution_count": null,
      "outputs": []
    },
    {
      "cell_type": "markdown",
      "source": [
        "## Method 3: Overlay Blend"
      ],
      "metadata": {
        "id": "O5Ar1R-kxxYV"
      }
    },
    {
      "cell_type": "code",
      "source": [
        "overlay_blend_array = np.where(img_array < 0.5,\n",
        "                               2 * img_array * img2_array,\n",
        "                               1 - (2 * (1 - img_array) * (1 - img2_array)))\n",
        "\n",
        "# Convert back to 8-bit values\n",
        "overlay_blend_array = (overlay_blend_array * 255).astype(np.uint8)\n",
        "\n",
        "# Create a new image from the blended array\n",
        "overlay_blend_img = Image.fromarray(overlay_blend_array)"
      ],
      "metadata": {
        "id": "a1qMJTJ874nr"
      },
      "execution_count": null,
      "outputs": []
    },
    {
      "cell_type": "code",
      "source": [
        "# Display images side by side (in one row and two columns)\n",
        "fig, axes = plt.subplots(1, 2, figsize=(12, 8))\n",
        "\n",
        "axes[0].imshow(img)\n",
        "axes[0].axis('off')\n",
        "axes[0].set_title('Input image')\n",
        "\n",
        "axes[1].imshow(overlay_blend_img)\n",
        "axes[1].axis('off')\n",
        "axes[1].set_title('Overlay blend mode')\n",
        "\n",
        "plt.show()"
      ],
      "metadata": {
        "id": "tfpkMy3s5gkS"
      },
      "execution_count": null,
      "outputs": []
    },
    {
      "cell_type": "code",
      "source": [
        "# Display images side by side (in two rows and two columns)\n",
        "fig, axes = plt.subplots(2, 2, figsize=(11, 7))\n",
        "\n",
        "axes[0,0].imshow(img)\n",
        "axes[0,0].axis('off')\n",
        "axes[0,0].set_title('Input image')\n",
        "\n",
        "axes[0,1].imshow(multiply_blend_img)\n",
        "axes[0,1].axis('off')\n",
        "axes[0,1].set_title('Multiply blend mode')\n",
        "\n",
        "axes[1,0].imshow(screen_blend_img)\n",
        "axes[1,0].axis('off')\n",
        "axes[1,0].set_title('Screen blend mode')\n",
        "\n",
        "axes[1,1].imshow(overlay_blend_img)\n",
        "axes[1,1].axis('off')\n",
        "axes[1,1].set_title('Overlay blend mode')\n",
        "\n",
        "plt.show()"
      ],
      "metadata": {
        "id": "yJCb48WL6kpG"
      },
      "execution_count": null,
      "outputs": []
    },
    {
      "cell_type": "markdown",
      "source": [
        "# Blending Different Images"
      ],
      "metadata": {
        "id": "I10nnpNBCke9"
      }
    },
    {
      "cell_type": "code",
      "source": [
        "background_img = Image.open(\"mountain.jpg\")\n",
        "shadow_img = Image.open(\"shadow.jpg\")"
      ],
      "metadata": {
        "id": "8K36p06M6w3L"
      },
      "execution_count": null,
      "outputs": []
    },
    {
      "cell_type": "code",
      "source": [
        "background_img.size, shadow_img.size"
      ],
      "metadata": {
        "id": "mKkvv7keJ7Fz"
      },
      "execution_count": null,
      "outputs": []
    },
    {
      "cell_type": "code",
      "source": [
        "plt.imshow(background_img)\n",
        "plt.show()"
      ],
      "metadata": {
        "id": "zcMjhN0NKAja"
      },
      "execution_count": null,
      "outputs": []
    },
    {
      "cell_type": "code",
      "source": [
        "plt.imshow(shadow_img)\n",
        "plt.show()"
      ],
      "metadata": {
        "id": "DyPRCrr3St85"
      },
      "execution_count": null,
      "outputs": []
    },
    {
      "cell_type": "code",
      "source": [
        "# crop image\n",
        "shadow_img = shadow_img.crop((0,0,1280,1705))"
      ],
      "metadata": {
        "id": "06qQKMmXSy3g"
      },
      "execution_count": null,
      "outputs": []
    },
    {
      "cell_type": "code",
      "source": [
        "plt.imshow(shadow_img)\n",
        "plt.show()"
      ],
      "metadata": {
        "id": "g5H2NM5HZewE"
      },
      "execution_count": null,
      "outputs": []
    },
    {
      "cell_type": "code",
      "source": [
        "# convert images from PIL format to arrays and normalize\n",
        "background_array = np.array(background_img, dtype=float) / 255\n",
        "\n",
        "shadow_array = np.array(shadow_img, dtype=float) / 255"
      ],
      "metadata": {
        "id": "fF0qX3i1Zhnk"
      },
      "execution_count": null,
      "outputs": []
    },
    {
      "cell_type": "markdown",
      "source": [
        "## 1. Multiply Blend"
      ],
      "metadata": {
        "id": "TkEuV47rcnNy"
      }
    },
    {
      "cell_type": "code",
      "source": [
        "# Perform the multiply blend\n",
        "multiply_blend_array = background_array * shadow_array\n",
        "\n",
        "# Convert back to 8-bit values\n",
        "multiply_blend_array = (multiply_blend_array * 255).astype(np.uint8)\n",
        "\n",
        "# Create an image object from array\n",
        "multiply_blend_img = Image.fromarray(multiply_blend_array)"
      ],
      "metadata": {
        "id": "2MfzCeoQaB7u"
      },
      "execution_count": null,
      "outputs": []
    },
    {
      "cell_type": "code",
      "source": [
        "plt.imshow(multiply_blend_img)\n",
        "plt.show()"
      ],
      "metadata": {
        "id": "3UxFxju8acay"
      },
      "execution_count": null,
      "outputs": []
    },
    {
      "cell_type": "markdown",
      "source": [
        "## 2. Screen Blend"
      ],
      "metadata": {
        "id": "mAAO_av9cryQ"
      }
    },
    {
      "cell_type": "code",
      "source": [
        "# Perform the screen blend\n",
        "screen_blend_array = 1 - (1 - background_array) * (1 - shadow_array)\n",
        "\n",
        "# Convert back to 8-bit values\n",
        "screen_blend_array = (screen_blend_array * 255).astype(np.uint8)\n",
        "\n",
        "# Create a new image from the blended array\n",
        "screen_blend_img = Image.fromarray(screen_blend_array)"
      ],
      "metadata": {
        "id": "RmnHAUf2cUXc"
      },
      "execution_count": null,
      "outputs": []
    },
    {
      "cell_type": "code",
      "source": [
        "plt.imshow(screen_blend_img)\n",
        "plt.show()"
      ],
      "metadata": {
        "id": "DQdQ6LWTgZ3k"
      },
      "execution_count": null,
      "outputs": []
    },
    {
      "cell_type": "markdown",
      "source": [
        "# 3. Overlay Blend"
      ],
      "metadata": {
        "id": "899ltleyaA4N"
      }
    },
    {
      "cell_type": "code",
      "source": [
        "overlay_blend_array = np.where(shadow_array < 0.5,\n",
        "                               2 * background_array * shadow_array,\n",
        "                               1 - (2 * (1 - background_array) * (1 - shadow_array)))\n",
        "\n",
        "# Convert back to 8-bit values\n",
        "overlay_blend_array = (overlay_blend_array * 255).astype(np.uint8)\n",
        "\n",
        "# Create a new image from the blended array\n",
        "overlay_blend_img = Image.fromarray(overlay_blend_array)"
      ],
      "metadata": {
        "id": "XBVehqQGgekT"
      },
      "execution_count": null,
      "outputs": []
    },
    {
      "cell_type": "code",
      "source": [
        "plt.imshow(overlay_blend_img)\n",
        "plt.show()"
      ],
      "metadata": {
        "id": "Gf4N8cyanbxP"
      },
      "execution_count": null,
      "outputs": []
    }
  ]
}